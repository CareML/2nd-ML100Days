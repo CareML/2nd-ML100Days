{
 "cells": [
  {
   "cell_type": "code",
   "execution_count": 1,
   "metadata": {},
   "outputs": [],
   "source": [
    "# Import 需要的套件\n",
    "import os\n",
    "import numpy as np\n",
    "import pandas as pd\n",
    "\n",
    "# 設定 data_path\n",
    "dir_data = './data/'"
   ]
  },
  {
   "cell_type": "code",
   "execution_count": 2,
   "metadata": {},
   "outputs": [],
   "source": [
    "f_app_train = os.path.join(dir_data, 'application_train.csv')\n",
    "app_train = pd.read_csv(f_app_train)"
   ]
  },
  {
   "cell_type": "code",
   "execution_count": 3,
   "metadata": {},
   "outputs": [],
   "source": [
    "import matplotlib.pyplot as plt\n",
    "%matplotlib inline"
   ]
  },
  {
   "cell_type": "markdown",
   "metadata": {},
   "source": [
    "## 練習時間"
   ]
  },
  {
   "cell_type": "markdown",
   "metadata": {},
   "source": [
    "觀察有興趣的欄位的資料分佈，並嘗試找出有趣的訊息\n",
    "#### Eg\n",
    "- 計算任意欄位的平均數及標準差\n",
    "- 畫出任意欄位的[直方圖](https://zh.wikipedia.org/zh-tw/%E7%9B%B4%E6%96%B9%E5%9B%BE)\n",
    "\n",
    "### Hints:\n",
    "- [Descriptive Statistics For pandas Dataframe](https://chrisalbon.com/python/data_wrangling/pandas_dataframe_descriptive_stats/)\n",
    "- [pandas 中的繪圖函數](https://amaozhao.gitbooks.io/pandas-notebook/content/pandas%E4%B8%AD%E7%9A%84%E7%BB%98%E5%9B%BE%E5%87%BD%E6%95%B0.html)\n"
   ]
  },
  {
   "cell_type": "code",
   "execution_count": 4,
   "metadata": {},
   "outputs": [
    {
     "data": {
      "text/plain": [
       "(307511, 122)"
      ]
     },
     "execution_count": 4,
     "metadata": {},
     "output_type": "execute_result"
    }
   ],
   "source": [
    "app_train.shape"
   ]
  },
  {
   "cell_type": "code",
   "execution_count": 5,
   "metadata": {},
   "outputs": [
    {
     "data": {
      "text/plain": [
       "<bound method NDFrame.head of         SK_ID_CURR  TARGET NAME_CONTRACT_TYPE CODE_GENDER FLAG_OWN_CAR  \\\n",
       "0           100002       1         Cash loans           M            N   \n",
       "1           100003       0         Cash loans           F            N   \n",
       "2           100004       0    Revolving loans           M            Y   \n",
       "3           100006       0         Cash loans           F            N   \n",
       "4           100007       0         Cash loans           M            N   \n",
       "5           100008       0         Cash loans           M            N   \n",
       "6           100009       0         Cash loans           F            Y   \n",
       "7           100010       0         Cash loans           M            Y   \n",
       "8           100011       0         Cash loans           F            N   \n",
       "9           100012       0    Revolving loans           M            N   \n",
       "10          100014       0         Cash loans           F            N   \n",
       "11          100015       0         Cash loans           F            N   \n",
       "12          100016       0         Cash loans           F            N   \n",
       "13          100017       0         Cash loans           M            Y   \n",
       "14          100018       0         Cash loans           F            N   \n",
       "15          100019       0         Cash loans           M            Y   \n",
       "16          100020       0         Cash loans           M            N   \n",
       "17          100021       0    Revolving loans           F            N   \n",
       "18          100022       0    Revolving loans           F            N   \n",
       "19          100023       0         Cash loans           F            N   \n",
       "20          100024       0    Revolving loans           M            Y   \n",
       "21          100025       0         Cash loans           F            Y   \n",
       "22          100026       0         Cash loans           F            N   \n",
       "23          100027       0         Cash loans           F            N   \n",
       "24          100029       0         Cash loans           M            Y   \n",
       "25          100030       0         Cash loans           F            N   \n",
       "26          100031       1         Cash loans           F            N   \n",
       "27          100032       0         Cash loans           M            N   \n",
       "28          100033       0         Cash loans           M            Y   \n",
       "29          100034       0    Revolving loans           M            N   \n",
       "...            ...     ...                ...         ...          ...   \n",
       "307481      456225       1         Cash loans           M            N   \n",
       "307482      456226       0         Cash loans           F            Y   \n",
       "307483      456227       0         Cash loans           F            N   \n",
       "307484      456228       0         Cash loans           F            Y   \n",
       "307485      456229       0    Revolving loans           F            N   \n",
       "307486      456230       0         Cash loans           F            Y   \n",
       "307487      456231       0         Cash loans           M            N   \n",
       "307488      456232       0         Cash loans           F            N   \n",
       "307489      456233       1         Cash loans           F            N   \n",
       "307490      456234       0         Cash loans           M            N   \n",
       "307491      456235       0         Cash loans           M            Y   \n",
       "307492      456236       0         Cash loans           M            Y   \n",
       "307493      456237       0         Cash loans           F            N   \n",
       "307494      456238       0         Cash loans           M            Y   \n",
       "307495      456239       0         Cash loans           M            Y   \n",
       "307496      456240       0    Revolving loans           F            N   \n",
       "307497      456241       0         Cash loans           F            Y   \n",
       "307498      456242       0         Cash loans           M            Y   \n",
       "307499      456243       0         Cash loans           F            N   \n",
       "307500      456244       0         Cash loans           F            N   \n",
       "307501      456245       0         Cash loans           F            N   \n",
       "307502      456246       0         Cash loans           F            N   \n",
       "307503      456247       0         Cash loans           F            N   \n",
       "307504      456248       0         Cash loans           F            N   \n",
       "307505      456249       0         Cash loans           F            N   \n",
       "307506      456251       0         Cash loans           M            N   \n",
       "307507      456252       0         Cash loans           F            N   \n",
       "307508      456253       0         Cash loans           F            N   \n",
       "307509      456254       1         Cash loans           F            N   \n",
       "307510      456255       0         Cash loans           F            N   \n",
       "\n",
       "       FLAG_OWN_REALTY  CNT_CHILDREN  AMT_INCOME_TOTAL  AMT_CREDIT  \\\n",
       "0                    Y             0        202500.000    406597.5   \n",
       "1                    N             0        270000.000   1293502.5   \n",
       "2                    Y             0         67500.000    135000.0   \n",
       "3                    Y             0        135000.000    312682.5   \n",
       "4                    Y             0        121500.000    513000.0   \n",
       "5                    Y             0         99000.000    490495.5   \n",
       "6                    Y             1        171000.000   1560726.0   \n",
       "7                    Y             0        360000.000   1530000.0   \n",
       "8                    Y             0        112500.000   1019610.0   \n",
       "9                    Y             0        135000.000    405000.0   \n",
       "10                   Y             1        112500.000    652500.0   \n",
       "11                   Y             0         38419.155    148365.0   \n",
       "12                   Y             0         67500.000     80865.0   \n",
       "13                   N             1        225000.000    918468.0   \n",
       "14                   Y             0        189000.000    773680.5   \n",
       "15                   Y             0        157500.000    299772.0   \n",
       "16                   N             0        108000.000    509602.5   \n",
       "17                   Y             1         81000.000    270000.0   \n",
       "18                   Y             0        112500.000    157500.0   \n",
       "19                   Y             1         90000.000    544491.0   \n",
       "20                   Y             0        135000.000    427500.0   \n",
       "21                   Y             1        202500.000   1132573.5   \n",
       "22                   N             1        450000.000    497520.0   \n",
       "23                   Y             0         83250.000    239850.0   \n",
       "24                   N             2        135000.000    247500.0   \n",
       "25                   Y             0         90000.000    225000.0   \n",
       "26                   Y             0        112500.000    979992.0   \n",
       "27                   Y             1        112500.000    327024.0   \n",
       "28                   Y             0        270000.000    790830.0   \n",
       "29                   Y             0         90000.000    180000.0   \n",
       "...                ...           ...               ...         ...   \n",
       "307481               Y             0        225000.000    297000.0   \n",
       "307482               Y             0        225000.000    500566.5   \n",
       "307483               Y             0         99000.000    247275.0   \n",
       "307484               N             0        540000.000    545040.0   \n",
       "307485               Y             1        270000.000    180000.0   \n",
       "307486               Y             1        292500.000    355536.0   \n",
       "307487               Y             0        117000.000   1071909.0   \n",
       "307488               N             0        157500.000    135000.0   \n",
       "307489               Y             0        225000.000    521280.0   \n",
       "307490               Y             0         81000.000    135000.0   \n",
       "307491               Y             2         90000.000   1078200.0   \n",
       "307492               Y             0        585000.000   1575000.0   \n",
       "307493               Y             0        135000.000    946764.0   \n",
       "307494               N             1        270000.000    479700.0   \n",
       "307495               N             0        180000.000    808650.0   \n",
       "307496               N             0        360000.000    337500.0   \n",
       "307497               Y             0        180000.000    270126.0   \n",
       "307498               Y             0        198000.000   1312110.0   \n",
       "307499               Y             0         81000.000    225000.0   \n",
       "307500               Y             0        261000.000   1303812.0   \n",
       "307501               Y             3         81000.000    269550.0   \n",
       "307502               Y             1         94500.000    225000.0   \n",
       "307503               Y             0        112500.000    345510.0   \n",
       "307504               Y             0        153000.000    331920.0   \n",
       "307505               Y             0        112500.000    225000.0   \n",
       "307506               N             0        157500.000    254700.0   \n",
       "307507               Y             0         72000.000    269550.0   \n",
       "307508               Y             0        153000.000    677664.0   \n",
       "307509               Y             0        171000.000    370107.0   \n",
       "307510               N             0        157500.000    675000.0   \n",
       "\n",
       "        AMT_ANNUITY  ...  FLAG_DOCUMENT_18 FLAG_DOCUMENT_19 FLAG_DOCUMENT_20  \\\n",
       "0           24700.5  ...                 0                0                0   \n",
       "1           35698.5  ...                 0                0                0   \n",
       "2            6750.0  ...                 0                0                0   \n",
       "3           29686.5  ...                 0                0                0   \n",
       "4           21865.5  ...                 0                0                0   \n",
       "5           27517.5  ...                 0                0                0   \n",
       "6           41301.0  ...                 0                0                0   \n",
       "7           42075.0  ...                 0                0                0   \n",
       "8           33826.5  ...                 0                0                0   \n",
       "9           20250.0  ...                 0                0                0   \n",
       "10          21177.0  ...                 0                0                0   \n",
       "11          10678.5  ...                 0                0                0   \n",
       "12           5881.5  ...                 0                0                0   \n",
       "13          28966.5  ...                 0                0                0   \n",
       "14          32778.0  ...                 0                0                0   \n",
       "15          20160.0  ...                 0                0                0   \n",
       "16          26149.5  ...                 0                0                0   \n",
       "17          13500.0  ...                 0                0                0   \n",
       "18           7875.0  ...                 0                0                0   \n",
       "19          17563.5  ...                 0                0                0   \n",
       "20          21375.0  ...                 0                0                0   \n",
       "21          37561.5  ...                 0                0                0   \n",
       "22          32521.5  ...                 0                0                0   \n",
       "23          23850.0  ...                 0                0                0   \n",
       "24          12703.5  ...                 0                0                0   \n",
       "25          11074.5  ...                 0                0                0   \n",
       "26          27076.5  ...                 0                0                0   \n",
       "27          23827.5  ...                 0                0                0   \n",
       "28          57676.5  ...                 0                0                0   \n",
       "29           9000.0  ...                 0                0                0   \n",
       "...             ...  ...               ...              ...              ...   \n",
       "307481      19975.5  ...                 0                0                0   \n",
       "307482      34969.5  ...                 0                0                0   \n",
       "307483      16479.0  ...                 0                0                0   \n",
       "307484      35617.5  ...                 0                0                0   \n",
       "307485       9000.0  ...                 0                0                0   \n",
       "307486      18283.5  ...                 0                0                0   \n",
       "307487      31473.0  ...                 0                0                0   \n",
       "307488      13351.5  ...                 0                0                0   \n",
       "307489      23089.5  ...                 0                0                0   \n",
       "307490       9148.5  ...                 0                0                0   \n",
       "307491      31522.5  ...                 0                0                0   \n",
       "307492      43443.0  ...                 0                0                0   \n",
       "307493      37678.5  ...                 0                0                0   \n",
       "307494      46858.5  ...                 0                0                0   \n",
       "307495      23773.5  ...                 0                0                0   \n",
       "307496      16875.0  ...                 0                0                0   \n",
       "307497      12028.5  ...                 0                0                0   \n",
       "307498      52168.5  ...                 0                0                0   \n",
       "307499      12694.5  ...                 0                0                0   \n",
       "307500      35982.0  ...                 0                0                0   \n",
       "307501      11871.0  ...                 0                0                0   \n",
       "307502      10620.0  ...                 0                0                0   \n",
       "307503      17770.5  ...                 0                0                0   \n",
       "307504      16096.5  ...                 0                0                0   \n",
       "307505      22050.0  ...                 0                0                0   \n",
       "307506      27558.0  ...                 0                0                0   \n",
       "307507      12001.5  ...                 0                0                0   \n",
       "307508      29979.0  ...                 0                0                0   \n",
       "307509      20205.0  ...                 0                0                0   \n",
       "307510      49117.5  ...                 0                0                0   \n",
       "\n",
       "       FLAG_DOCUMENT_21 AMT_REQ_CREDIT_BUREAU_HOUR AMT_REQ_CREDIT_BUREAU_DAY  \\\n",
       "0                     0                        0.0                       0.0   \n",
       "1                     0                        0.0                       0.0   \n",
       "2                     0                        0.0                       0.0   \n",
       "3                     0                        NaN                       NaN   \n",
       "4                     0                        0.0                       0.0   \n",
       "5                     0                        0.0                       0.0   \n",
       "6                     0                        0.0                       0.0   \n",
       "7                     0                        0.0                       0.0   \n",
       "8                     0                        0.0                       0.0   \n",
       "9                     0                        NaN                       NaN   \n",
       "10                    0                        0.0                       0.0   \n",
       "11                    0                        0.0                       0.0   \n",
       "12                    0                        0.0                       0.0   \n",
       "13                    0                        0.0                       0.0   \n",
       "14                    0                        NaN                       NaN   \n",
       "15                    0                        0.0                       0.0   \n",
       "16                    0                        0.0                       0.0   \n",
       "17                    0                        NaN                       NaN   \n",
       "18                    0                        0.0                       0.0   \n",
       "19                    0                        0.0                       0.0   \n",
       "20                    0                        NaN                       NaN   \n",
       "21                    0                        0.0                       0.0   \n",
       "22                    0                        0.0                       0.0   \n",
       "23                    0                        0.0                       0.0   \n",
       "24                    0                        0.0                       0.0   \n",
       "25                    0                        0.0                       0.0   \n",
       "26                    0                        0.0                       0.0   \n",
       "27                    0                        0.0                       0.0   \n",
       "28                    0                        0.0                       0.0   \n",
       "29                    0                        NaN                       NaN   \n",
       "...                 ...                        ...                       ...   \n",
       "307481                0                        0.0                       0.0   \n",
       "307482                0                        0.0                       0.0   \n",
       "307483                0                        0.0                       0.0   \n",
       "307484                0                        NaN                       NaN   \n",
       "307485                0                        0.0                       0.0   \n",
       "307486                0                        0.0                       0.0   \n",
       "307487                0                        0.0                       0.0   \n",
       "307488                0                        0.0                       0.0   \n",
       "307489                0                        0.0                       0.0   \n",
       "307490                0                        0.0                       0.0   \n",
       "307491                0                        0.0                       0.0   \n",
       "307492                0                        0.0                       0.0   \n",
       "307493                0                        0.0                       0.0   \n",
       "307494                0                        0.0                       0.0   \n",
       "307495                0                        0.0                       0.0   \n",
       "307496                0                        0.0                       0.0   \n",
       "307497                0                        0.0                       0.0   \n",
       "307498                0                        0.0                       0.0   \n",
       "307499                0                        0.0                       0.0   \n",
       "307500                0                        0.0                       0.0   \n",
       "307501                0                        NaN                       NaN   \n",
       "307502                0                        0.0                       0.0   \n",
       "307503                0                        0.0                       0.0   \n",
       "307504                0                        NaN                       NaN   \n",
       "307505                0                        0.0                       0.0   \n",
       "307506                0                        NaN                       NaN   \n",
       "307507                0                        NaN                       NaN   \n",
       "307508                0                        1.0                       0.0   \n",
       "307509                0                        0.0                       0.0   \n",
       "307510                0                        0.0                       0.0   \n",
       "\n",
       "        AMT_REQ_CREDIT_BUREAU_WEEK  AMT_REQ_CREDIT_BUREAU_MON  \\\n",
       "0                              0.0                        0.0   \n",
       "1                              0.0                        0.0   \n",
       "2                              0.0                        0.0   \n",
       "3                              NaN                        NaN   \n",
       "4                              0.0                        0.0   \n",
       "5                              0.0                        0.0   \n",
       "6                              0.0                        1.0   \n",
       "7                              0.0                        0.0   \n",
       "8                              0.0                        0.0   \n",
       "9                              NaN                        NaN   \n",
       "10                             0.0                        1.0   \n",
       "11                             0.0                        0.0   \n",
       "12                             0.0                        1.0   \n",
       "13                             0.0                        0.0   \n",
       "14                             NaN                        NaN   \n",
       "15                             0.0                        0.0   \n",
       "16                             0.0                        0.0   \n",
       "17                             NaN                        NaN   \n",
       "18                             0.0                        0.0   \n",
       "19                             0.0                        0.0   \n",
       "20                             NaN                        NaN   \n",
       "21                             0.0                        0.0   \n",
       "22                             0.0                        0.0   \n",
       "23                             0.0                        0.0   \n",
       "24                             0.0                        0.0   \n",
       "25                             0.0                        0.0   \n",
       "26                             0.0                        0.0   \n",
       "27                             0.0                        0.0   \n",
       "28                             0.0                        1.0   \n",
       "29                             NaN                        NaN   \n",
       "...                            ...                        ...   \n",
       "307481                         0.0                        0.0   \n",
       "307482                         0.0                        0.0   \n",
       "307483                         0.0                        0.0   \n",
       "307484                         NaN                        NaN   \n",
       "307485                         0.0                        0.0   \n",
       "307486                         0.0                        0.0   \n",
       "307487                         0.0                        0.0   \n",
       "307488                         0.0                        0.0   \n",
       "307489                         0.0                        0.0   \n",
       "307490                         0.0                        0.0   \n",
       "307491                         0.0                        0.0   \n",
       "307492                         0.0                        0.0   \n",
       "307493                         0.0                        0.0   \n",
       "307494                         1.0                        0.0   \n",
       "307495                         0.0                        0.0   \n",
       "307496                         0.0                        0.0   \n",
       "307497                         0.0                        0.0   \n",
       "307498                         0.0                        0.0   \n",
       "307499                         0.0                        1.0   \n",
       "307500                         0.0                        1.0   \n",
       "307501                         NaN                        NaN   \n",
       "307502                         0.0                        0.0   \n",
       "307503                         0.0                        1.0   \n",
       "307504                         NaN                        NaN   \n",
       "307505                         0.0                        2.0   \n",
       "307506                         NaN                        NaN   \n",
       "307507                         NaN                        NaN   \n",
       "307508                         0.0                        1.0   \n",
       "307509                         0.0                        0.0   \n",
       "307510                         0.0                        2.0   \n",
       "\n",
       "        AMT_REQ_CREDIT_BUREAU_QRT  AMT_REQ_CREDIT_BUREAU_YEAR  \n",
       "0                             0.0                         1.0  \n",
       "1                             0.0                         0.0  \n",
       "2                             0.0                         0.0  \n",
       "3                             NaN                         NaN  \n",
       "4                             0.0                         0.0  \n",
       "5                             1.0                         1.0  \n",
       "6                             1.0                         2.0  \n",
       "7                             0.0                         0.0  \n",
       "8                             0.0                         1.0  \n",
       "9                             NaN                         NaN  \n",
       "10                            0.0                         0.0  \n",
       "11                            0.0                         2.0  \n",
       "12                            0.0                         0.0  \n",
       "13                            0.0                         1.0  \n",
       "14                            NaN                         NaN  \n",
       "15                            0.0                         1.0  \n",
       "16                            1.0                         0.0  \n",
       "17                            NaN                         NaN  \n",
       "18                            0.0                         0.0  \n",
       "19                            0.0                         2.0  \n",
       "20                            NaN                         NaN  \n",
       "21                            1.0                         4.0  \n",
       "22                            0.0                         5.0  \n",
       "23                            0.0                         3.0  \n",
       "24                            0.0                         0.0  \n",
       "25                            0.0                         0.0  \n",
       "26                            2.0                         2.0  \n",
       "27                            0.0                         0.0  \n",
       "28                            0.0                         1.0  \n",
       "29                            NaN                         NaN  \n",
       "...                           ...                         ...  \n",
       "307481                        0.0                         3.0  \n",
       "307482                        0.0                         1.0  \n",
       "307483                        0.0                         5.0  \n",
       "307484                        NaN                         NaN  \n",
       "307485                        0.0                         0.0  \n",
       "307486                        1.0                         1.0  \n",
       "307487                        1.0                         8.0  \n",
       "307488                        2.0                         1.0  \n",
       "307489                        1.0                         2.0  \n",
       "307490                        0.0                         1.0  \n",
       "307491                        1.0                         7.0  \n",
       "307492                        0.0                         0.0  \n",
       "307493                        1.0                         7.0  \n",
       "307494                        0.0                         1.0  \n",
       "307495                        0.0                         1.0  \n",
       "307496                        0.0                         2.0  \n",
       "307497                        0.0                         6.0  \n",
       "307498                        0.0                         2.0  \n",
       "307499                        1.0                         0.0  \n",
       "307500                        0.0                         5.0  \n",
       "307501                        NaN                         NaN  \n",
       "307502                        0.0                         1.0  \n",
       "307503                        0.0                         2.0  \n",
       "307504                        NaN                         NaN  \n",
       "307505                        0.0                         0.0  \n",
       "307506                        NaN                         NaN  \n",
       "307507                        NaN                         NaN  \n",
       "307508                        0.0                         1.0  \n",
       "307509                        0.0                         0.0  \n",
       "307510                        0.0                         1.0  \n",
       "\n",
       "[307511 rows x 122 columns]>"
      ]
     },
     "execution_count": 5,
     "metadata": {},
     "output_type": "execute_result"
    }
   ],
   "source": [
    "app_train.head"
   ]
  },
  {
   "cell_type": "code",
   "execution_count": 6,
   "metadata": {},
   "outputs": [
    {
     "name": "stdout",
     "output_type": "stream",
     "text": [
      "count    3.075110e+05\n",
      "mean     1.687979e+05\n",
      "std      2.371231e+05\n",
      "min      2.565000e+04\n",
      "25%      1.125000e+05\n",
      "50%      1.471500e+05\n",
      "75%      2.025000e+05\n",
      "max      1.170000e+08\n",
      "Name: AMT_INCOME_TOTAL, dtype: float64\n"
     ]
    }
   ],
   "source": [
    "colIncome = app_train['AMT_INCOME_TOTAL']\n",
    "print(colIncome.describe())  #Summary statistics\n",
    "#colIncome.mean()"
   ]
  },
  {
   "cell_type": "code",
   "execution_count": 7,
   "metadata": {},
   "outputs": [
    {
     "data": {
      "text/plain": [
       "168797.9192969845"
      ]
     },
     "execution_count": 7,
     "metadata": {},
     "output_type": "execute_result"
    }
   ],
   "source": [
    "colIncome.mean()  #平均數"
   ]
  },
  {
   "cell_type": "code",
   "execution_count": 8,
   "metadata": {},
   "outputs": [
    {
     "data": {
      "text/plain": [
       "237123.14627885626"
      ]
     },
     "execution_count": 8,
     "metadata": {},
     "output_type": "execute_result"
    }
   ],
   "source": [
    "colIncome.std()   #標準差"
   ]
  },
  {
   "cell_type": "code",
   "execution_count": 9,
   "metadata": {},
   "outputs": [
    {
     "data": {
      "image/png": "[encoded data removed]",
      "text/plain": [
       "<Figure size 432x288 with 1 Axes>"
      ]
     },
     "metadata": {
      "needs_background": "light"
     },
     "output_type": "display_data"
    }
   ],
   "source": [
    "#箱型圖    showfliers=False 是否放入離群植\n",
    "plt.boxplot(colIncome, showfliers=True)\n",
    "plt.show()"
   ]
  },
  {
   "cell_type": "code",
   "execution_count": 10,
   "metadata": {},
   "outputs": [
    {
     "data": {
      "text/plain": [
       "<matplotlib.axes._subplots.AxesSubplot at 0x10db30f60>"
      ]
     },
     "execution_count": 10,
     "metadata": {},
     "output_type": "execute_result"
    },
    {
     "data": {
      "image/png": "[encoded data removed]",
      "text/plain": [
       "<Figure size 432x288 with 1 Axes>"
      ]
     },
     "metadata": {
      "needs_background": "light"
     },
     "output_type": "display_data"
    }
   ],
   "source": [
    "colIncome.plot.hist()    #numeric data to plot hist"
   ]
  },
  {
   "cell_type": "code",
   "execution_count": 11,
   "metadata": {},
   "outputs": [
    {
     "name": "stdout",
     "output_type": "stream",
     "text": [
      "count    307511.000000\n",
      "mean          0.417052\n",
      "std           0.722121\n",
      "min           0.000000\n",
      "25%           0.000000\n",
      "50%           0.000000\n",
      "75%           1.000000\n",
      "max          19.000000\n",
      "Name: CNT_CHILDREN, dtype: float64\n"
     ]
    }
   ],
   "source": [
    "colnoKids = app_train['CNT_CHILDREN']\n",
    "print(colnoKids.describe())  #Summary statistics"
   ]
  },
  {
   "cell_type": "code",
   "execution_count": 12,
   "metadata": {
    "scrolled": true
   },
   "outputs": [
    {
     "data": {
      "image/png": "[encoded data removed]",
      "text/plain": [
       "<Figure size 432x288 with 1 Axes>"
      ]
     },
     "metadata": {
      "needs_background": "light"
     },
     "output_type": "display_data"
    }
   ],
   "source": [
    "plt.boxplot(colnoKids, showfliers=True)\n",
    "plt.show()"
   ]
  },
  {
   "cell_type": "code",
   "execution_count": 13,
   "metadata": {},
   "outputs": [
    {
     "data": {
      "text/plain": [
       "<matplotlib.axes._subplots.AxesSubplot at 0x11f789080>"
      ]
     },
     "execution_count": 13,
     "metadata": {},
     "output_type": "execute_result"
    },
    {
     "data": {
      "image/png": "[encoded data removed]",
      "text/plain": [
       "<Figure size 432x288 with 1 Axes>"
      ]
     },
     "metadata": {
      "needs_background": "light"
     },
     "output_type": "display_data"
    }
   ],
   "source": [
    "colnoKids.plot.hist(bins=70)"
   ]
  }
 ],
 "metadata": {
  "kernelspec": {
   "display_name": "Python 3",
   "language": "python",
   "name": "python3"
  },
  "language_info": {
   "codemirror_mode": {
    "name": "ipython",
    "version": 3
   },
   "file_extension": ".py",
   "mimetype": "text/x-python",
   "name": "python",
   "nbconvert_exporter": "python",
   "pygments_lexer": "ipython3",
   "version": "3.6.8"
  }
 },
 "nbformat": 4,
 "nbformat_minor": 2
}
